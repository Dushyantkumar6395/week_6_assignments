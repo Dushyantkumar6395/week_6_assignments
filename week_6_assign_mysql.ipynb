{
 "cells": [
  {
   "cell_type": "code",
   "execution_count": 1,
   "id": "1464ad82-8b7d-49f5-9e47-6d7fb7364083",
   "metadata": {},
   "outputs": [],
   "source": [
    "# Q1. What is a database? Differentiate between SQL and NoSQL databases.\n",
    "# Answer:\n",
    "# Database:  SQL databases are table-based, while NoSQL databases are document, key-value, graph,or wide-column stores.\n",
    "# Difference bw SQL and NoSQL databse:\n",
    "# SQL databases are better for multi-row transactions, while NoSQL is better for unstructured data like documents or JSON."
   ]
  },
  {
   "cell_type": "code",
   "execution_count": 3,
   "id": "7fd12b6d-79a0-4bff-b0e3-a5e64852912c",
   "metadata": {},
   "outputs": [],
   "source": [
    "# Q2. What is DDL? Explain why CREATE, DROP, ALTER, and TRUNCATE are used with an example.\n",
    "# DDL(Data Definition Language):\n",
    "#      This sub-language deals with onjects of database like table,view,sequence etc..\n",
    "#      Its provides five commands-\n",
    "#     1.CREATE,\n",
    "#     2.RENAME,\n",
    "#     3.ALTER,\n",
    "#     4.TRUNCATE,\n",
    "#     5.DROP\n",
    "# (1.) CREATE:\n",
    "        #syntax;\n",
    "           # create table table_name(<field1><datatype>,<field2><datatype>...<fieldn><datatype>)\n",
    "# (3.) ALTER:\n",
    "        #syntax:\n",
    "           #ALTER TABLE= table_name ACC column_name datatype;\n",
    "# (4.) TRUNCATE:\n",
    "       #syntax:\n",
    "           #\n",
    "   "
   ]
  },
  {
   "cell_type": "code",
   "execution_count": 4,
   "id": "7e5d28a4-9c21-464e-921f-30d5236a2ba1",
   "metadata": {},
   "outputs": [],
   "source": [
    "# Q3. What is DML? Explain INSERT, UPDATE, and DELETE with an example.\n",
    "# Answer:\n",
    "# DML(Data Manipulate Language):\n",
    "     # It deals with data of objects. It provides three commands-\n",
    "     # . INSERT\n",
    "     # . UPDATE\n",
    "     # . DELETE\n",
    "        \n",
    "# (1.) INSERT:\n",
    "         #syntax:\n",
    "           # insert into <table.name> values(data1,data2,...,datan);\n",
    "           # insert into text.text_table values(123,'Dushyant', 234.45,234,'kumar')\n",
    "# (2.) UPDATE:\n",
    "         #syntax:\n",
    "            # update <table> set <field>=<update> where <field>=<Reference_data>;\n",
    "            # update text.text_table set name='Dushyant' where sir name = 'kumar'\n",
    "# (3.) DELETE:\n",
    "         #syntax:\n",
    "            #(a) delete from <table_name>;\n",
    "            #(b) delete from <table_name> where condition_statement;"
   ]
  },
  {
   "cell_type": "code",
   "execution_count": 5,
   "id": "0629b2a1-3d1d-49c6-a3e6-b6dbdb86d6c6",
   "metadata": {},
   "outputs": [],
   "source": [
    "# Q4. What is DQL? Explain SELECT with an example.\n",
    "# Answer:\n",
    "# DQL(Data Query Language):\n",
    "#        It is used to retrive information from database. It has only one select command.\n",
    "\n",
    "# SELECT:\n",
    "    #syntax:\n",
    "         # select * from <table_name>;"
   ]
  },
  {
   "cell_type": "code",
   "execution_count": 6,
   "id": "46fcc211-0785-4e8f-a719-2693f703bc7d",
   "metadata": {},
   "outputs": [],
   "source": [
    "# Q5. Explain Primary Key and Foreign Key.\n",
    "# Answer:\n",
    "# Primary key:\n",
    "#     1. primary key uniquely indentify a record in the table.\n",
    "#     2. primary key cannot accept Null values.\n",
    "#     3. By default , primary key is clustered index and data in the database table is physically organised in the sequence of\n",
    "#        clustered index.\n",
    "# Foreign key:\n",
    "#    1.foreign key is a field in the table that is primary key in another table.\n",
    "#    2.foreign key can accept multiple null values .\n",
    "#    3.foreign key do not automatcally create an index, clustered or non-clustered .\n",
    "#       you can mannually create an index on foreign key.\n",
    "    "
   ]
  },
  {
   "cell_type": "code",
   "execution_count": 8,
   "id": "8369c6d5-e7a0-4ad5-8a71-955f34a20fc5",
   "metadata": {},
   "outputs": [],
   "source": [
    "# Q6. Write a python code to connect MySQL to python. Explain the cursor() and execute() method.\n",
    "# Answer:\n",
    "import mysql.connector\n",
    "mydb = mysql.connector.connect(\n",
    "    host =\"localhost\",\n",
    "    user =\"abc\",\n",
    "    password = \"password\"\n",
    ")\n",
    "\n",
    "mycursor = mydb.cursor()\n",
    "mycursor.execute(\"CREATE DATABASE if not exists test55\")\n",
    "mycursor.execute(\"SHOW DATABASES\")\n",
    "mydb.close()\n",
    "\n",
    "# cursor():\n",
    "#     Cursor is a Temporary Memory or Temporary Work Station. It is Allocated by Database Server at the Time of Performing \n",
    "#    DML(Data Manipulation Language) operations on the Table by the User. Cursors are used to store Database Tables. \n",
    "#    There are 2 types of Cursors: Implicit Cursors, and Explicit Cursors.\n",
    "# execute():\n",
    "#     This method executes the given database operation (query or command). The parameters found in the tuple or dictionary \n",
    "#    params are bound to the variables in the operation. Specify variables using %s or %( name )s parameter style\n",
    "#    (that is, using format or pyformat style). execute() returns an iterator if multi is True ."
   ]
  },
  {
   "cell_type": "code",
   "execution_count": null,
   "id": "d671745e-3ad0-4767-9de0-db88ba980a82",
   "metadata": {},
   "outputs": [],
   "source": [
    "# Q7. Give the order of execution of SQL clauses in an SQL query.\n",
    "# Answer:\n",
    "#   FROM--->JOIN--->WHERE--->GROUP BY--->HAVING--->SELECT--->DISTINCT--->ORDER BY--->LIMIT"
   ]
  }
 ],
 "metadata": {
  "kernelspec": {
   "display_name": "Python 3 (ipykernel)",
   "language": "python",
   "name": "python3"
  },
  "language_info": {
   "codemirror_mode": {
    "name": "ipython",
    "version": 3
   },
   "file_extension": ".py",
   "mimetype": "text/x-python",
   "name": "python",
   "nbconvert_exporter": "python",
   "pygments_lexer": "ipython3",
   "version": "3.10.6"
  }
 },
 "nbformat": 4,
 "nbformat_minor": 5
}
