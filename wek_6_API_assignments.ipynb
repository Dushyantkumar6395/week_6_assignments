{
 "cells": [
  {
   "cell_type": "code",
   "execution_count": 1,
   "id": "5fdaf176-8386-45e6-9188-3fb9e672774c",
   "metadata": {},
   "outputs": [],
   "source": [
    "# Q1. What is an API? Give an example, where an API is used in real life.\n",
    "# Answer:\n",
    "#    APIs are used in web applications to connect user-facing front ends with critical back-end functionality and data. \n",
    "#   APIs are used to deliver material by streaming services such as Spotify and Netflix. APIs are used by automakers such as \n",
    "#   Tesla to provide software upgrades."
   ]
  },
  {
   "cell_type": "code",
   "execution_count": 2,
   "id": "fe45b57d-7bb7-41f0-b988-38e9c6ee7751",
   "metadata": {},
   "outputs": [],
   "source": [
    "# Q2. Give advantages and disadvantages of using API. \n",
    "# Answer:\n",
    "# Advantage:\n",
    "#  1.Increased Interoperability: API solutions enable different software systems to communicate with each other, \n",
    "#     regardless of their programming language or platform. This enhances the interoperability between systems, allowing \n",
    "#    for the exchange of data and functionality.\n",
    "# 2.Improved Efficiency: API driven infrastructures enable developers to reuse code and functionality from existing software systems, \n",
    "#     saving time and reducing the amount of code that needs to be written from scratch.\n",
    "# 3.Better User Experience: APIs can enable third-party developers to create applications that integrate with existing software systems,\n",
    "#    providing a better user experience and increased functionality.\n",
    "# 4.Increased Flexibility: APIs provide developers with greater flexibility, enabling them to choose the best programming languages and\n",
    "#   frameworks for their needs.\n",
    "# 5.New Revenue Streams: APIs can enable companies to create new revenue streams by providing third-party developers with access to their\n",
    "#   software systems.\n",
    "\n",
    "# Disadvantages:\n",
    "#    1.Security Concerns: API infrastructures can be vulnerable to security breaches, such as SQL injection attacks and cross-site scripting \n",
    "#      (XSS) attacks, making it crucial to implement security measures to protect against these threats.\n",
    "#    2.Complexity: APIs can be complex, requiring a significant amount of development effort to implement and maintain.\n",
    "#    3.Compatibility Issues: APIs can have compatibility issues between different versions of the same software system or between different\n",
    "#      systems, which can lead to errors and system failures.\n",
    "#    4.Dependency on Third-Party Developers: APIs rely on third-party developers to create applications that integrate with the software system.\n",
    "#      This can create dependencies that are outside of the control of the company that owns the software system.\n",
    "#    5.Governance and Management: APIs require proper governance and management to ensure they are being used correctly and consistently across\n",
    "#      different applications and systems."
   ]
  },
  {
   "cell_type": "code",
   "execution_count": 3,
   "id": "734b09ca-54de-4946-9220-d1bf06780ceb",
   "metadata": {},
   "outputs": [],
   "source": [
    "# Q3. What is a Web API? Differentiate between API and Web API.\n",
    "# Answer:\n",
    "# In computer programming, an application programming interface (API) is a set of subroutine definitions, protocols, and tools for building software and applications.\n",
    "# To put it in simple terms, API is some kind of interface which has a set of functions that allow programmers to access specific features\n",
    "# or data of an application, operating system or other services.Web API as the name suggests, is an API over the web which can be accessed\n",
    "# using HTTP protocol. It is a concept and not a technology.\n",
    "# Difference between API abd Web API:\n",
    "#  API is an interface that exposes an application's data to outside software, whereas web applications are one type of API with\n",
    "#  stricter requirements. These requirements include network communication, SOAP as the primary protocol, and less accessibility for the public."
   ]
  },
  {
   "cell_type": "code",
   "execution_count": 4,
   "id": "de3e0e7e-583b-4b81-818d-ef6b921cab04",
   "metadata": {},
   "outputs": [],
   "source": [
    "# Q4. Explain REST and SOAP Architecture. Mention shortcomings of SOAP.\n",
    "# SOAP: SOAP (Simple Object Access Protocol) is an XML-based protocol for accessing web services over HTTP. It is developed as an \n",
    "#        intermediate language so that applications built in various programming languages can communicate with each other effectively.\n",
    "#       Web services use SOAP for the exchange of XML data between applications. SOAP supports both stateful and stateless operations.\n",
    "#   Stateful means that the server keeps the information that it receives from the client across multiple requests. These requests are chained \n",
    "#   together so that the server is aware of the previous requests. Examples are bank transactions, flight bookings, etc. Stateless messaging has\n",
    "#       enough information about the state of the client so that the server does not have to bother.\n",
    "# REST: REST (Representational State Transfer) is an architectural approach for communication purposes often used in various web\n",
    "#        services development. It is a stateless client-server model. Web services that are defined by the concept of REST are RESTful \n",
    "#       web services. When a client makes a request via RESTful API, it transfers the representation of the state of the resources\n",
    "#       to the server. This information can be transferred in various formats via HTTP like JSON, HTML, XLT, and Plain Text, but JSON \n",
    "#       is the most common language used due to its easy readability by machines and humans.\n",
    "# shortcomings: As SOAP can only transfer messages as XML files, your SOAP API will be less performant, as XML is a verbose format \n",
    "#            compared to JSON. API calls made to your server will need more bandwidth and it will take more time to process the request and \n",
    "#            transfer the response back to the client."
   ]
  },
  {
   "cell_type": "code",
   "execution_count": null,
   "id": "26763197-59c4-44dc-8a77-a34578c49b5e",
   "metadata": {},
   "outputs": [],
   "source": [
    "# Q5. Differentiate between REST and SOAP.\n",
    "# Answer:\n",
    "#    SOAP and REST are two different approaches to API design. The SOAP approach is highly structured and uses XML\n",
    "#    data format. REST is more flexible and allows applications to exchange data in multiple formats."
   ]
  }
 ],
 "metadata": {
  "kernelspec": {
   "display_name": "Python 3 (ipykernel)",
   "language": "python",
   "name": "python3"
  },
  "language_info": {
   "codemirror_mode": {
    "name": "ipython",
    "version": 3
   },
   "file_extension": ".py",
   "mimetype": "text/x-python",
   "name": "python",
   "nbconvert_exporter": "python",
   "pygments_lexer": "ipython3",
   "version": "3.10.6"
  }
 },
 "nbformat": 4,
 "nbformat_minor": 5
}
